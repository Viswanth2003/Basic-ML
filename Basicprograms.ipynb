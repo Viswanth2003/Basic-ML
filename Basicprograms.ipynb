{
  "nbformat": 4,
  "nbformat_minor": 0,
  "metadata": {
    "colab": {
      "name": "Basicprograms.ipynb",
      "provenance": [],
      "authorship_tag": "ABX9TyN/St45n7S572bsJQDNuLfE",
      "include_colab_link": true
    },
    "kernelspec": {
      "name": "python3",
      "display_name": "Python 3"
    },
    "language_info": {
      "name": "python"
    }
  },
  "cells": [
    {
      "cell_type": "markdown",
      "metadata": {
        "id": "view-in-github",
        "colab_type": "text"
      },
      "source": [
        "<a href=\"https://colab.research.google.com/github/Viswanth2003/Basic-ML/blob/main/Basicprograms.ipynb\" target=\"_parent\"><img src=\"https://colab.research.google.com/assets/colab-badge.svg\" alt=\"Open In Colab\"/></a>"
      ]
    },
    {
      "cell_type": "code",
      "metadata": {
        "id": "cRV6rE74ouro"
      },
      "source": [
        ""
      ],
      "execution_count": null,
      "outputs": []
    },
    {
      "cell_type": "markdown",
      "metadata": {
        "id": "bSreKkhWo7K6"
      },
      "source": [
        "Adding of two numbers"
      ]
    },
    {
      "cell_type": "code",
      "metadata": {
        "id": "2m_694hmpepY"
      },
      "source": [
        "a=int(input())\n",
        "b=int(input())\n",
        "print(a+b)"
      ],
      "execution_count": null,
      "outputs": []
    },
    {
      "cell_type": "markdown",
      "metadata": {
        "id": "l9fqeAPhp8q-"
      },
      "source": [
        "Multiplication of two numbers"
      ]
    },
    {
      "cell_type": "code",
      "metadata": {
        "id": "UIRMZgDiqDOh"
      },
      "source": [
        "a=int(input())\n",
        "b=int(input())\n",
        "print(a*b)"
      ],
      "execution_count": null,
      "outputs": []
    },
    {
      "cell_type": "markdown",
      "metadata": {
        "id": "QODADdnOqWBR"
      },
      "source": [
        "Even or Odd"
      ]
    },
    {
      "cell_type": "code",
      "metadata": {
        "id": "Ozuw05U3qaWW"
      },
      "source": [
        "a=int(input())\n",
        "if a%2==0:\n",
        "  print(\"Given Number is Even Number\")\n",
        "else:\n",
        "  print(\"Given Number is Odd Number\")"
      ],
      "execution_count": null,
      "outputs": []
    }
  ]
}