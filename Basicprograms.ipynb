{
  "nbformat": 4,
  "nbformat_minor": 0,
  "metadata": {
    "colab": {
      "name": "Basicprograms.ipynb",
      "provenance": [],
      "authorship_tag": "ABX9TyNLl36pbXYrcx7rPX2tutSB",
      "include_colab_link": true
    },
    "kernelspec": {
      "name": "python3",
      "display_name": "Python 3"
    },
    "language_info": {
      "name": "python"
    }
  },
  "cells": [
    {
      "cell_type": "markdown",
      "metadata": {
        "id": "view-in-github",
        "colab_type": "text"
      },
      "source": [
        "<a href=\"https://colab.research.google.com/github/Viswanth2003/Basic-ML/blob/main/Basicprograms.ipynb\" target=\"_parent\"><img src=\"https://colab.research.google.com/assets/colab-badge.svg\" alt=\"Open In Colab\"/></a>"
      ]
    },
    {
      "cell_type": "markdown",
      "metadata": {
        "id": "am2WMER-uzOb"
      },
      "source": [
        ""
      ]
    },
    {
      "cell_type": "markdown",
      "metadata": {
        "id": "bSreKkhWo7K6"
      },
      "source": [
        "Adding of two numbers"
      ]
    },
    {
      "cell_type": "code",
      "metadata": {
        "id": "2m_694hmpepY",
        "colab": {
          "base_uri": "https://localhost:8080/"
        },
        "outputId": "f8c681f0-cf17-40de-8f97-3c8aa5e69701"
      },
      "source": [
        "a=int(input())\n",
        "b=int(input())\n",
        "print(a+b)"
      ],
      "execution_count": 1,
      "outputs": [
        {
          "output_type": "stream",
          "text": [
            "5\n",
            "6\n",
            "11\n"
          ],
          "name": "stdout"
        }
      ]
    },
    {
      "cell_type": "markdown",
      "metadata": {
        "id": "l9fqeAPhp8q-"
      },
      "source": [
        "Multiplication of two numbers"
      ]
    },
    {
      "cell_type": "code",
      "metadata": {
        "id": "UIRMZgDiqDOh",
        "colab": {
          "base_uri": "https://localhost:8080/"
        },
        "outputId": "7f125309-486d-492c-d6b8-94b35f8ec081"
      },
      "source": [
        "a=int(input())\n",
        "b=int(input())\n",
        "print(a*b)"
      ],
      "execution_count": 2,
      "outputs": [
        {
          "output_type": "stream",
          "text": [
            "5\n",
            "6\n",
            "30\n"
          ],
          "name": "stdout"
        }
      ]
    },
    {
      "cell_type": "markdown",
      "metadata": {
        "id": "QODADdnOqWBR"
      },
      "source": [
        "Even or Odd"
      ]
    },
    {
      "cell_type": "code",
      "metadata": {
        "id": "Ozuw05U3qaWW",
        "colab": {
          "base_uri": "https://localhost:8080/"
        },
        "outputId": "ee5c0d76-5540-4cc8-e580-fd283ab4bf94"
      },
      "source": [
        "a=int(input())\n",
        "if a%2==0:\n",
        "  print(\"Given Number is Even Number\")\n",
        "else:\n",
        "  print(\"Given Number is Odd Number\")"
      ],
      "execution_count": 3,
      "outputs": [
        {
          "output_type": "stream",
          "text": [
            "20\n",
            "Given Number is Even Number\n"
          ],
          "name": "stdout"
        }
      ]
    }
  ]
}