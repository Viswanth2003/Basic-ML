{
  "metadata": {
    "kernelspec": {
      "language": "python",
      "display_name": "Python 3",
      "name": "python3"
    },
    "language_info": {
      "name": "python",
      "version": "3.10.13",
      "mimetype": "text/x-python",
      "codemirror_mode": {
        "name": "ipython",
        "version": 3
      },
      "pygments_lexer": "ipython3",
      "nbconvert_exporter": "python",
      "file_extension": ".py"
    },
    "kaggle": {
      "accelerator": "none",
      "dataSources": [
        {
          "sourceId": 3322096,
          "sourceType": "datasetVersion",
          "datasetId": 2008274
        }
      ],
      "dockerImageVersionId": 30646,
      "isInternetEnabled": false,
      "language": "python",
      "sourceType": "notebook",
      "isGpuEnabled": false
    },
    "colab": {
      "name": "CodeWay_Task3",
      "provenance": [],
      "include_colab_link": true
    }
  },
  "nbformat_minor": 0,
  "nbformat": 4,
  "cells": [
    {
      "cell_type": "markdown",
      "metadata": {
        "id": "view-in-github",
        "colab_type": "text"
      },
      "source": [
        "<a href=\"https://colab.research.google.com/github/Viswanth2003/Basic-ML/blob/main/CodeWay_Task3.ipynb\" target=\"_parent\"><img src=\"https://colab.research.google.com/assets/colab-badge.svg\" alt=\"Open In Colab\"/></a>"
      ]
    },
    {
      "source": [
        "\n",
        "# IMPORTANT: RUN THIS CELL IN ORDER TO IMPORT YOUR KAGGLE DATA SOURCES\n",
        "# TO THE CORRECT LOCATION (/kaggle/input) IN YOUR NOTEBOOK,\n",
        "# THEN FEEL FREE TO DELETE THIS CELL.\n",
        "# NOTE: THIS NOTEBOOK ENVIRONMENT DIFFERS FROM KAGGLE'S PYTHON\n",
        "# ENVIRONMENT SO THERE MAY BE MISSING LIBRARIES USED BY YOUR\n",
        "# NOTEBOOK.\n",
        "\n",
        "import os\n",
        "import sys\n",
        "from tempfile import NamedTemporaryFile\n",
        "from urllib.request import urlopen\n",
        "from urllib.parse import unquote, urlparse\n",
        "from urllib.error import HTTPError\n",
        "from zipfile import ZipFile\n",
        "import tarfile\n",
        "import shutil\n",
        "\n",
        "CHUNK_SIZE = 40960\n",
        "DATA_SOURCE_MAPPING = 'bank-customer-churn-prediction:https%3A%2F%2Fstorage.googleapis.com%2Fkaggle-data-sets%2F2008274%2F3322096%2Fbundle%2Farchive.zip%3FX-Goog-Algorithm%3DGOOG4-RSA-SHA256%26X-Goog-Credential%3Dgcp-kaggle-com%2540kaggle-161607.iam.gserviceaccount.com%252F20240221%252Fauto%252Fstorage%252Fgoog4_request%26X-Goog-Date%3D20240221T041513Z%26X-Goog-Expires%3D259200%26X-Goog-SignedHeaders%3Dhost%26X-Goog-Signature%3D899fc6855ef40c602c1547a52b691ad7353bebc7182859f4d8ce8c684aceeef4999b237e1cfedecac90a4712122bd42e00f954bac39f3ca7c89bc828244b970f31ef7c3f48bff60179fa5c637ab275f3a78e668b3f93025d62fe7ad21d2c569e8dc33939d21f38738c0f13137448b1170aa2bc79da3e7c8f64699f97a041d65f5def4a5d63dad20cea6b9cc5c1c3aa7c302746ff7745106597cd6ba055b633ac9b8708bd58f755c957fc05a4e3c9ee75e8438462c5963dc9ecf6ba69c398fb4f746bcbbad35cf4b3324953e2e7dbd750239364b749684f96e3a4e1dab96308328745d14591fd2393c94ff7c596f864f774b59caa7a87712df75c4723d5a84da2'\n",
        "\n",
        "KAGGLE_INPUT_PATH='/kaggle/input'\n",
        "KAGGLE_WORKING_PATH='/kaggle/working'\n",
        "KAGGLE_SYMLINK='kaggle'\n",
        "\n",
        "!umount /kaggle/input/ 2> /dev/null\n",
        "shutil.rmtree('/kaggle/input', ignore_errors=True)\n",
        "os.makedirs(KAGGLE_INPUT_PATH, 0o777, exist_ok=True)\n",
        "os.makedirs(KAGGLE_WORKING_PATH, 0o777, exist_ok=True)\n",
        "\n",
        "try:\n",
        "  os.symlink(KAGGLE_INPUT_PATH, os.path.join(\"..\", 'input'), target_is_directory=True)\n",
        "except FileExistsError:\n",
        "  pass\n",
        "try:\n",
        "  os.symlink(KAGGLE_WORKING_PATH, os.path.join(\"..\", 'working'), target_is_directory=True)\n",
        "except FileExistsError:\n",
        "  pass\n",
        "\n",
        "for data_source_mapping in DATA_SOURCE_MAPPING.split(','):\n",
        "    directory, download_url_encoded = data_source_mapping.split(':')\n",
        "    download_url = unquote(download_url_encoded)\n",
        "    filename = urlparse(download_url).path\n",
        "    destination_path = os.path.join(KAGGLE_INPUT_PATH, directory)\n",
        "    try:\n",
        "        with urlopen(download_url) as fileres, NamedTemporaryFile() as tfile:\n",
        "            total_length = fileres.headers['content-length']\n",
        "            print(f'Downloading {directory}, {total_length} bytes compressed')\n",
        "            dl = 0\n",
        "            data = fileres.read(CHUNK_SIZE)\n",
        "            while len(data) > 0:\n",
        "                dl += len(data)\n",
        "                tfile.write(data)\n",
        "                done = int(50 * dl / int(total_length))\n",
        "                sys.stdout.write(f\"\\r[{'=' * done}{' ' * (50-done)}] {dl} bytes downloaded\")\n",
        "                sys.stdout.flush()\n",
        "                data = fileres.read(CHUNK_SIZE)\n",
        "            if filename.endswith('.zip'):\n",
        "              with ZipFile(tfile) as zfile:\n",
        "                zfile.extractall(destination_path)\n",
        "            else:\n",
        "              with tarfile.open(tfile.name) as tarfile:\n",
        "                tarfile.extractall(destination_path)\n",
        "            print(f'\\nDownloaded and uncompressed: {directory}')\n",
        "    except HTTPError as e:\n",
        "        print(f'Failed to load (likely expired) {download_url} to path {destination_path}')\n",
        "        continue\n",
        "    except OSError as e:\n",
        "        print(f'Failed to load {download_url} to path {destination_path}')\n",
        "        continue\n",
        "\n",
        "print('Data source import complete.')\n"
      ],
      "metadata": {
        "id": "h5lDPL954Aiw"
      },
      "cell_type": "code",
      "outputs": [],
      "execution_count": null
    },
    {
      "cell_type": "code",
      "source": [
        "# This Python 3 environment comes with many helpful analytics libraries installed\n",
        "# It is defined by the kaggle/python Docker image: https://github.com/kaggle/docker-python\n",
        "# For example, here's several helpful packages to load\n",
        "\n",
        "import numpy as np # linear algebra\n",
        "import pandas as pd # data processing, CSV file I/O (e.g. pd.read_csv)\n",
        "\n",
        "# Input data files are available in the read-only \"../input/\" directory\n",
        "# For example, running this (by clicking run or pressing Shift+Enter) will list all files under the input directory\n",
        "\n",
        "import os\n",
        "for dirname, _, filenames in os.walk('/kaggle/input'):\n",
        "    for filename in filenames:\n",
        "        print(os.path.join(dirname, filename))\n",
        "\n",
        "# You can write up to 20GB to the current directory (/kaggle/working/) that gets preserved as output when you create a version using \"Save & Run All\"\n",
        "# You can also write temporary files to /kaggle/temp/, but they won't be saved outside of the current session"
      ],
      "metadata": {
        "_uuid": "8f2839f25d086af736a60e9eeb907d3b93b6e0e5",
        "_cell_guid": "b1076dfc-b9ad-4769-8c92-a6c4dae69d19",
        "trusted": true,
        "id": "ZigLwLDI4Ai3"
      },
      "execution_count": null,
      "outputs": []
    },
    {
      "cell_type": "markdown",
      "source": [
        "**Import Libraries**"
      ],
      "metadata": {
        "id": "NkIEAaui4Ai5"
      }
    },
    {
      "cell_type": "code",
      "source": [
        "import pandas as pd\n",
        "import numpy as np\n",
        "import matplotlib.pyplot as plt\n",
        "import seaborn as sns\n",
        "from sklearn.model_selection import train_test_split\n",
        "from sklearn.preprocessing import StandardScaler\n",
        "from sklearn.ensemble import RandomForestClassifier, GradientBoostingClassifier\n",
        "from sklearn.linear_model import LogisticRegression\n",
        "from sklearn.metrics import accuracy_score, confusion_matrix, classification_report"
      ],
      "metadata": {
        "execution": {
          "iopub.status.busy": "2024-02-21T04:02:22.355293Z",
          "iopub.execute_input": "2024-02-21T04:02:22.355894Z",
          "iopub.status.idle": "2024-02-21T04:02:26.078867Z",
          "shell.execute_reply.started": "2024-02-21T04:02:22.355845Z",
          "shell.execute_reply": "2024-02-21T04:02:26.077647Z"
        },
        "trusted": true,
        "id": "XvJoaQDP4Ai9"
      },
      "execution_count": null,
      "outputs": []
    },
    {
      "cell_type": "markdown",
      "source": [
        "**Load and Explore the Data**"
      ],
      "metadata": {
        "id": "3va1Zup-4Ai-"
      }
    },
    {
      "cell_type": "code",
      "source": [
        "data = pd.read_csv('/kaggle/input/bank-customer-churn-prediction/Churn_Modelling.csv')"
      ],
      "metadata": {
        "execution": {
          "iopub.status.busy": "2024-02-21T04:06:20.047307Z",
          "iopub.execute_input": "2024-02-21T04:06:20.0477Z",
          "iopub.status.idle": "2024-02-21T04:06:20.080553Z",
          "shell.execute_reply.started": "2024-02-21T04:06:20.047672Z",
          "shell.execute_reply": "2024-02-21T04:06:20.079466Z"
        },
        "trusted": true,
        "id": "BEad4Hnz4Ai_"
      },
      "execution_count": null,
      "outputs": []
    },
    {
      "cell_type": "markdown",
      "source": [
        "**Exploratory Data Analysis (EDA)**"
      ],
      "metadata": {
        "id": "RUnKg4X94AjA"
      }
    },
    {
      "cell_type": "code",
      "source": [
        "print(data.info())\n",
        "\n",
        "# Summary statistics\n",
        "print(data.describe())\n",
        "\n",
        "# Check for missing values\n",
        "print(data.isnull().sum())\n",
        "\n",
        "# Visualize churn distribution\n",
        "sns.countplot(x='Exited', data=data)\n",
        "plt.title('Churn Distribution')\n",
        "plt.show()"
      ],
      "metadata": {
        "execution": {
          "iopub.status.busy": "2024-02-21T04:09:00.491865Z",
          "iopub.execute_input": "2024-02-21T04:09:00.492296Z",
          "iopub.status.idle": "2024-02-21T04:09:00.804144Z",
          "shell.execute_reply.started": "2024-02-21T04:09:00.492265Z",
          "shell.execute_reply": "2024-02-21T04:09:00.802903Z"
        },
        "trusted": true,
        "id": "m9uqdS7N4AjB",
        "outputId": "e24176ac-b446-4a5a-9d0c-b46da383304b"
      },
      "execution_count": null,
      "outputs": [
        {
          "name": "stdout",
          "text": "<class 'pandas.core.frame.DataFrame'>\nRangeIndex: 10000 entries, 0 to 9999\nData columns (total 14 columns):\n #   Column           Non-Null Count  Dtype  \n---  ------           --------------  -----  \n 0   RowNumber        10000 non-null  int64  \n 1   CustomerId       10000 non-null  int64  \n 2   Surname          10000 non-null  object \n 3   CreditScore      10000 non-null  int64  \n 4   Geography        10000 non-null  object \n 5   Gender           10000 non-null  object \n 6   Age              10000 non-null  int64  \n 7   Tenure           10000 non-null  int64  \n 8   Balance          10000 non-null  float64\n 9   NumOfProducts    10000 non-null  int64  \n 10  HasCrCard        10000 non-null  int64  \n 11  IsActiveMember   10000 non-null  int64  \n 12  EstimatedSalary  10000 non-null  float64\n 13  Exited           10000 non-null  int64  \ndtypes: float64(2), int64(9), object(3)\nmemory usage: 1.1+ MB\nNone\n         RowNumber    CustomerId   CreditScore           Age        Tenure  \\\ncount  10000.00000  1.000000e+04  10000.000000  10000.000000  10000.000000   \nmean    5000.50000  1.569094e+07    650.528800     38.921800      5.012800   \nstd     2886.89568  7.193619e+04     96.653299     10.487806      2.892174   \nmin        1.00000  1.556570e+07    350.000000     18.000000      0.000000   \n25%     2500.75000  1.562853e+07    584.000000     32.000000      3.000000   \n50%     5000.50000  1.569074e+07    652.000000     37.000000      5.000000   \n75%     7500.25000  1.575323e+07    718.000000     44.000000      7.000000   \nmax    10000.00000  1.581569e+07    850.000000     92.000000     10.000000   \n\n             Balance  NumOfProducts    HasCrCard  IsActiveMember  \\\ncount   10000.000000   10000.000000  10000.00000    10000.000000   \nmean    76485.889288       1.530200      0.70550        0.515100   \nstd     62397.405202       0.581654      0.45584        0.499797   \nmin         0.000000       1.000000      0.00000        0.000000   \n25%         0.000000       1.000000      0.00000        0.000000   \n50%     97198.540000       1.000000      1.00000        1.000000   \n75%    127644.240000       2.000000      1.00000        1.000000   \nmax    250898.090000       4.000000      1.00000        1.000000   \n\n       EstimatedSalary        Exited  \ncount     10000.000000  10000.000000  \nmean     100090.239881      0.203700  \nstd       57510.492818      0.402769  \nmin          11.580000      0.000000  \n25%       51002.110000      0.000000  \n50%      100193.915000      0.000000  \n75%      149388.247500      0.000000  \nmax      199992.480000      1.000000  \nRowNumber          0\nCustomerId         0\nSurname            0\nCreditScore        0\nGeography          0\nGender             0\nAge                0\nTenure             0\nBalance            0\nNumOfProducts      0\nHasCrCard          0\nIsActiveMember     0\nEstimatedSalary    0\nExited             0\ndtype: int64\n",
          "output_type": "stream"
        },
        {
          "output_type": "display_data",
          "data": {
            "text/plain": "<Figure size 640x480 with 1 Axes>",
            "image/png": "[encoded data removed]"
          },
          "metadata": {}
        }
      ]
    },
    {
      "cell_type": "markdown",
      "source": [
        "**Data Preprocessing**"
      ],
      "metadata": {
        "id": "XKdT1X1K4AjD"
      }
    },
    {
      "cell_type": "code",
      "source": [
        "data = data.drop(['RowNumber', 'CustomerId', 'Surname'], axis=1)\n",
        "\n",
        "# Convert categorical variables to numerical using one-hot encoding\n",
        "data = pd.get_dummies(data, columns=['Geography', 'Gender'], drop_first=True)\n",
        "\n",
        "# Split the data into features (X) and target variable (y)\n",
        "X = data.drop('Exited', axis=1)\n",
        "y = data['Exited']\n",
        "\n",
        "# Split the data into training and testing sets\n",
        "X_train, X_test, y_train, y_test = train_test_split(X, y, test_size=0.2, random_state=42)\n",
        "\n",
        "# Standardize the features\n",
        "scaler = StandardScaler()\n",
        "X_train = scaler.fit_transform(X_train)\n",
        "X_test = scaler.transform(X_test)"
      ],
      "metadata": {
        "execution": {
          "iopub.status.busy": "2024-02-21T04:09:38.63893Z",
          "iopub.execute_input": "2024-02-21T04:09:38.639458Z",
          "iopub.status.idle": "2024-02-21T04:09:38.679379Z",
          "shell.execute_reply.started": "2024-02-21T04:09:38.639418Z",
          "shell.execute_reply": "2024-02-21T04:09:38.678228Z"
        },
        "trusted": true,
        "id": "Sk5JI2vG4AjE"
      },
      "execution_count": null,
      "outputs": []
    },
    {
      "cell_type": "markdown",
      "source": [
        "**Model Training and Evaluation with Logistic Regression**"
      ],
      "metadata": {
        "id": "BuBXHYGC4AjF"
      }
    },
    {
      "cell_type": "code",
      "source": [
        "# Initialize the Logistic Regression model\n",
        "logistic_model = LogisticRegression()\n",
        "\n",
        "# Train the model\n",
        "logistic_model.fit(X_train, y_train)\n",
        "\n",
        "# Predictions\n",
        "y_pred_logistic = logistic_model.predict(X_test)\n",
        "\n",
        "# Evaluate the model\n",
        "accuracy_logistic = accuracy_score(y_test, y_pred_logistic)\n",
        "conf_matrix_logistic = confusion_matrix(y_test, y_pred_logistic)\n",
        "classification_rep_logistic = classification_report(y_test, y_pred_logistic)\n",
        "\n",
        "# Display results\n",
        "print(\"Logistic Regression Accuracy:\", accuracy_logistic)\n",
        "print(\"Confusion Matrix:\\n\", conf_matrix_logistic)\n",
        "print(\"Classification Report:\\n\", classification_rep_logistic)"
      ],
      "metadata": {
        "execution": {
          "iopub.status.busy": "2024-02-21T04:10:14.607404Z",
          "iopub.execute_input": "2024-02-21T04:10:14.607781Z",
          "iopub.status.idle": "2024-02-21T04:10:14.676037Z",
          "shell.execute_reply.started": "2024-02-21T04:10:14.607753Z",
          "shell.execute_reply": "2024-02-21T04:10:14.674513Z"
        },
        "trusted": true,
        "id": "Ads2gN2V4AjG",
        "outputId": "7b7041fe-ceed-48ac-886c-bc347a6c83d0"
      },
      "execution_count": null,
      "outputs": [
        {
          "name": "stdout",
          "text": "Logistic Regression Accuracy: 0.811\nConfusion Matrix:\n [[1543   64]\n [ 314   79]]\nClassification Report:\n               precision    recall  f1-score   support\n\n           0       0.83      0.96      0.89      1607\n           1       0.55      0.20      0.29       393\n\n    accuracy                           0.81      2000\n   macro avg       0.69      0.58      0.59      2000\nweighted avg       0.78      0.81      0.77      2000\n\n",
          "output_type": "stream"
        }
      ]
    },
    {
      "cell_type": "markdown",
      "source": [
        "**Model Training and Evaluation with Random Forest**"
      ],
      "metadata": {
        "id": "-jubt-h64AjI"
      }
    },
    {
      "cell_type": "code",
      "source": [
        "random_forest_model = RandomForestClassifier()\n",
        "\n",
        "# Train the model\n",
        "random_forest_model.fit(X_train, y_train)\n",
        "\n",
        "# Predictions\n",
        "y_pred_rf = random_forest_model.predict(X_test)\n",
        "\n",
        "# Evaluate the model\n",
        "accuracy_rf = accuracy_score(y_test, y_pred_rf)\n",
        "conf_matrix_rf = confusion_matrix(y_test, y_pred_rf)\n",
        "classification_rep_rf = classification_report(y_test, y_pred_rf)\n",
        "\n",
        "# Display results\n",
        "print(\"Random Forest Accuracy:\", accuracy_rf)\n",
        "print(\"Confusion Matrix:\\n\", conf_matrix_rf)\n",
        "print(\"Classification Report:\\n\", classification_rep_rf)"
      ],
      "metadata": {
        "execution": {
          "iopub.status.busy": "2024-02-21T04:10:43.28656Z",
          "iopub.execute_input": "2024-02-21T04:10:43.286952Z",
          "iopub.status.idle": "2024-02-21T04:10:44.701763Z",
          "shell.execute_reply.started": "2024-02-21T04:10:43.286923Z",
          "shell.execute_reply": "2024-02-21T04:10:44.700578Z"
        },
        "trusted": true,
        "id": "9Go4BzId4AjJ",
        "outputId": "c972d479-b6e1-447e-8462-6023bb962b12"
      },
      "execution_count": null,
      "outputs": [
        {
          "name": "stdout",
          "text": "Random Forest Accuracy: 0.8635\nConfusion Matrix:\n [[1541   66]\n [ 207  186]]\nClassification Report:\n               precision    recall  f1-score   support\n\n           0       0.88      0.96      0.92      1607\n           1       0.74      0.47      0.58       393\n\n    accuracy                           0.86      2000\n   macro avg       0.81      0.72      0.75      2000\nweighted avg       0.85      0.86      0.85      2000\n\n",
          "output_type": "stream"
        }
      ]
    },
    {
      "cell_type": "markdown",
      "source": [
        "**Model Training and Evaluation with Gradient Boosting**"
      ],
      "metadata": {
        "id": "qX_eZUAm4AjK"
      }
    },
    {
      "cell_type": "code",
      "source": [
        "# Initialize the Gradient Boosting model\n",
        "gb_model = GradientBoostingClassifier()\n",
        "\n",
        "# Train the model\n",
        "gb_model.fit(X_train, y_train)\n",
        "\n",
        "# Predictions\n",
        "y_pred_gb = gb_model.predict(X_test)\n",
        "\n",
        "# Evaluate the model\n",
        "accuracy_gb = accuracy_score(y_test, y_pred_gb)\n",
        "conf_matrix_gb = confusion_matrix(y_test, y_pred_gb)\n",
        "classification_rep_gb = classification_report(y_test, y_pred_gb)\n",
        "\n",
        "# Display results\n",
        "print(\"Gradient Boosting Accuracy:\", accuracy_gb)\n",
        "print(\"Confusion Matrix:\\n\", conf_matrix_gb)\n",
        "print(\"Classification Report:\\n\", classification_rep_gb)"
      ],
      "metadata": {
        "execution": {
          "iopub.status.busy": "2024-02-21T04:11:55.84673Z",
          "iopub.execute_input": "2024-02-21T04:11:55.847124Z",
          "iopub.status.idle": "2024-02-21T04:11:57.162495Z",
          "shell.execute_reply.started": "2024-02-21T04:11:55.847095Z",
          "shell.execute_reply": "2024-02-21T04:11:57.161595Z"
        },
        "trusted": true,
        "id": "kKo12VfX4AjL",
        "outputId": "b806d61d-b604-4ebd-f6aa-f7efcf28d82e"
      },
      "execution_count": null,
      "outputs": [
        {
          "name": "stdout",
          "text": "Gradient Boosting Accuracy: 0.8675\nConfusion Matrix:\n [[1543   64]\n [ 201  192]]\nClassification Report:\n               precision    recall  f1-score   support\n\n           0       0.88      0.96      0.92      1607\n           1       0.75      0.49      0.59       393\n\n    accuracy                           0.87      2000\n   macro avg       0.82      0.72      0.76      2000\nweighted avg       0.86      0.87      0.86      2000\n\n",
          "output_type": "stream"
        }
      ]
    }
  ]
}